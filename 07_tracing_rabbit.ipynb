{
 "cells": [
  {
   "cell_type": "markdown",
   "id": "d12e3113",
   "metadata": {},
   "source": [
    "It is a sample using the waypoint in front of the car as a rabbit."
   ]
  },
  {
   "cell_type": "code",
   "execution_count": 5,
   "id": "bb3d8e0d",
   "metadata": {},
   "outputs": [],
   "source": [
    "import math\n",
    "\n",
    "def reward_function(params):\n",
    "\n",
    "    x = params['x']\n",
    "    y = params['y']\n",
    "    heading = params['heading']\n",
    "    waypoints = params['waypoints']\n",
    "    \n",
    "    waypoints_length = len(waypoints)\n",
    "    \n",
    "    front_waypoint = params['closest_waypoints'][1]\n",
    "    \n",
    "    rabbit_waypoint = front_waypoint + 1\n",
    "    \n",
    "    if (rabbit_waypoint >= waypoints_length):\n",
    "        rabbit_waypoint = rabbit_waypoint % waypoints_length\n",
    "    \n",
    "    rabbit = [waypoints[rabbit_waypoint][0],waypoints[rabbit_waypoint][1]]\n",
    "    \n",
    "    radius = math.hypot(x - rabbit[0], y - rabbit[1])\n",
    "    \n",
    "    pointing = [0,0]\n",
    "    pointing[0] = x + (radius * math.cos(heading))\n",
    "    pointing[1] = y + (radius * math.sin(heading))\n",
    "    \n",
    "    vector_delta = math.hypot(pointing[0] - rabbit[0], pointing[1] - rabbit[1])\n",
    "    \n",
    "    reward = 0.001\n",
    "    \n",
    "    reward += ( 1 - ( vector_delta / (radius * 2)))\n",
    "    \n",
    "#     print(params)\n",
    "#     print(\"===Reward: %f\" % reward)\n",
    "    \n",
    "    return(reward)"
   ]
  },
  {
   "cell_type": "code",
   "execution_count": 31,
   "id": "e07bcbc9",
   "metadata": {},
   "outputs": [],
   "source": [
    "from race_utils import SampleGenerator\n",
    "generator = SampleGenerator()\n",
    "params = generator.random_sample()"
   ]
  },
  {
   "cell_type": "code",
   "execution_count": 32,
   "id": "797de2a1",
   "metadata": {},
   "outputs": [
    {
     "data": {
      "text/plain": [
       "0.2490844553093814"
      ]
     },
     "execution_count": 32,
     "metadata": {},
     "output_type": "execute_result"
    }
   ],
   "source": [
    "reward_function(params)"
   ]
  },
  {
   "cell_type": "code",
   "execution_count": 33,
   "id": "36b91052",
   "metadata": {},
   "outputs": [
    {
     "data": {
      "text/plain": [
       "0.2490844553093814"
      ]
     },
     "execution_count": 33,
     "metadata": {},
     "output_type": "execute_result"
    }
   ],
   "source": [
    "caocao_reward_function(params)"
   ]
  },
  {
   "cell_type": "code",
   "execution_count": null,
   "id": "8008c761",
   "metadata": {},
   "outputs": [],
   "source": []
  },
  {
   "cell_type": "markdown",
   "id": "afbcf26d",
   "metadata": {},
   "source": [
    "## Configs and result\n",
    "\n",
    "\n",
    "The following chart is the training metrics of the `tracing rabbit` model with higer speed. The speed is set to 1.4 to 3.2.\n",
    "\n",
    "According to the test result, 1.5 meters per second is almost the highest limit for the car to make the first U turn in re:Invent 2018 track.\n",
    "\n",
    "To make the car run faster, while still be able to make the first U turn, we set the min speed to 1.4 meters per second.\n",
    "\n",
    "\n",
    "\n",
    "<img src=\"./images/07_result.png\" width = \"300\"  alt=\"result\"  />\n",
    "\n",
    "\n",
    "\n",
    "And the evaluation results are listed below.\n",
    "\n",
    "Although only one of three evaluations is finished without going out of track, the time used is impressive, which is about 10 seconds, which is much lesser than other general models.\n",
    "\n",
    "As we only have one evaluation reach 100% progress, we need to try our luck. By submitting the model mutiply times, we got a result of 33 seconds to finish three laps without out of track punishment\n",
    "\n",
    "<img src=\"./images/07_evaluation.png\" width = \"300\"  alt=\"evaluation\"  />\n",
    "\n",
    "\n",
    "Action space and other hyper parameters are listed as below:\n",
    "\n",
    "<img src=\"./images/07_action_space.png\" width = \"300\"  alt=\"action space\"  />\n",
    "\n",
    "<img src=\"./images/07_hyper_parameters.png\" width = \"300\"  alt=\"hyper parameters\"  />\n",
    "\n"
   ]
  },
  {
   "cell_type": "code",
   "execution_count": null,
   "id": "91925d61",
   "metadata": {},
   "outputs": [],
   "source": []
  }
 ],
 "metadata": {
  "kernelspec": {
   "display_name": "Python 3 (ipykernel)",
   "language": "python",
   "name": "python3"
  },
  "language_info": {
   "codemirror_mode": {
    "name": "ipython",
    "version": 3
   },
   "file_extension": ".py",
   "mimetype": "text/x-python",
   "name": "python",
   "nbconvert_exporter": "python",
   "pygments_lexer": "ipython3",
   "version": "3.8.8"
  }
 },
 "nbformat": 4,
 "nbformat_minor": 5
}
