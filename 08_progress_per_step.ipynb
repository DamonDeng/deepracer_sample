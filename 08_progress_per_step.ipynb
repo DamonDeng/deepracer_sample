{
 "cells": [
  {
   "cell_type": "markdown",
   "id": "bc6cfeff",
   "metadata": {},
   "source": [
    "## Self motivation, increasing progress per step\n",
    "\n",
    "This reward function caculates reward by comparing current progress and expected progress.\n",
    "\n",
    "It gives more reward if current progress is larger than expected progress.\n",
    "\n",
    "The expected progress is caculated by setting up expected finished time.\n",
    "\n",
    "On the re:Invent 2018 track, the world class model can finish one lap in 7 seconds. As there are 15 steps in 1 second, so we expect the car to finish the lap in 7*15 = 105 steps if it work as well as the world class model. So the expected progress per step is 100/105. With the expected progress per step and the steps parameter from input `params`, we can caculate expected progress (expected_progress_per_step * steps) and then compare it with current progress.\n"
   ]
  },
  {
   "cell_type": "code",
   "execution_count": 7,
   "id": "6949d5d3",
   "metadata": {},
   "outputs": [],
   "source": [
    "def reward_function(params):\n",
    "\n",
    "    # Read all input parameters\n",
    "    all_wheels_on_track = params['all_wheels_on_track']\n",
    "    x = params['x']\n",
    "    y = params['y']\n",
    "    distance_from_center = params['distance_from_center']\n",
    "    is_left_of_center = params['is_left_of_center']\n",
    "    heading = params['heading']\n",
    "    progress = params['progress']\n",
    "    steps = params['steps']\n",
    "    speed = params['speed']\n",
    "    steering_angle = params['steering_angle']\n",
    "    track_width = params['track_width']\n",
    "    waypoints = params['waypoints']\n",
    "    closest_waypoints = params['closest_waypoints']\n",
    "    is_offtrack = params['is_offtrack']\n",
    "    \n",
    "    \n",
    "    reward = 0.0\n",
    "    \n",
    "    expected_steps = 105 # for re:invent 2018, finish one lap in 7 seconds, 15*7 = 105 steps\n",
    "    \n",
    "    expected_progress_per_step = 100/expected_steps\n",
    "    \n",
    "    expected_progress = expected_progress_per_step * steps\n",
    "    \n",
    "    progress_reward = progress/expected_progress\n",
    "    \n",
    "    reward += progress_reward\n",
    "    \n",
    "    return float(reward)"
   ]
  },
  {
   "cell_type": "markdown",
   "id": "f2cc4f1a",
   "metadata": {},
   "source": [
    "Testing it with sample params"
   ]
  },
  {
   "cell_type": "code",
   "execution_count": 8,
   "id": "ef0d31e4",
   "metadata": {},
   "outputs": [],
   "source": [
    "from race_utils import SampleGenerator\n",
    "generator = SampleGenerator()\n",
    "params = generator.random_sample()"
   ]
  },
  {
   "cell_type": "code",
   "execution_count": 9,
   "id": "e260ae15",
   "metadata": {},
   "outputs": [],
   "source": []
  },
  {
   "cell_type": "code",
   "execution_count": 10,
   "id": "77f44fc6",
   "metadata": {},
   "outputs": [
    {
     "data": {
      "text/plain": [
       "0.6154348133910134"
      ]
     },
     "execution_count": 10,
     "metadata": {},
     "output_type": "execute_result"
    }
   ],
   "source": [
    "reward_function(params)"
   ]
  },
  {
   "cell_type": "markdown",
   "id": "0e7c34b5",
   "metadata": {},
   "source": [
    "## Configs and result\n",
    "\n",
    "\n",
    "The following chart is the training metrics of the `progress per step` model with higer speed. The speed is set to 1.4 to 4.\n",
    "\n",
    "\n",
    "\n",
    "<img src=\"./images/08_result.png\" width = \"300\"  alt=\"result\"  />\n",
    "\n",
    "\n",
    "\n",
    "And the evaluation results are listed below.\n",
    "\n",
    "All of the three evalutions reach 100% progress, with the time used being 11 seconds.\n",
    "\n",
    "\n",
    "<img src=\"./images/08_evaluation.png\" width = \"300\"  alt=\"evaluation\"  />\n",
    "\n",
    "\n",
    "Action space and other hyper parameters are listed as below:\n",
    "\n",
    "<img src=\"./images/08_action_space.png\" width = \"300\"  alt=\"action space\"  />\n",
    "\n",
    "<img src=\"./images/08_hyper_parameters.png\" width = \"300\"  alt=\"hyper parameters\"  />\n",
    "\n"
   ]
  },
  {
   "cell_type": "code",
   "execution_count": null,
   "id": "3b3aea0f",
   "metadata": {},
   "outputs": [],
   "source": []
  }
 ],
 "metadata": {
  "kernelspec": {
   "display_name": "Python 3 (ipykernel)",
   "language": "python",
   "name": "python3"
  },
  "language_info": {
   "codemirror_mode": {
    "name": "ipython",
    "version": 3
   },
   "file_extension": ".py",
   "mimetype": "text/x-python",
   "name": "python",
   "nbconvert_exporter": "python",
   "pygments_lexer": "ipython3",
   "version": "3.8.8"
  }
 },
 "nbformat": 4,
 "nbformat_minor": 5
}
