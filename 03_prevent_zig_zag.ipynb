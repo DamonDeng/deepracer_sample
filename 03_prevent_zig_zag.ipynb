{
 "cells": [
  {
   "cell_type": "markdown",
   "id": "245a9cd7",
   "metadata": {},
   "source": [
    "## Default sample: Prevent Zig-Zag in Time Trials"
   ]
  },
  {
   "cell_type": "markdown",
   "id": "e9eb39f9",
   "metadata": {},
   "source": [
    "It is the third sample used in DeepRacer.\n",
    "\n",
    "The car will be penalized if it is steering too much\n",
    "\n",
    "At the same time, it will try to follow the center line:\n"
   ]
  },
  {
   "cell_type": "code",
   "execution_count": 7,
   "id": "ff509679",
   "metadata": {},
   "outputs": [],
   "source": [
    "def reward_function(params):\n",
    "    '''\n",
    "    Example of penalize steering, which helps mitigate zig-zag behaviors\n",
    "    '''\n",
    "    \n",
    "    # Read input parameters\n",
    "    distance_from_center = params['distance_from_center']\n",
    "    track_width = params['track_width']\n",
    "    abs_steering = abs(params['steering_angle']) # Only need the absolute steering angle\n",
    "\n",
    "    # Calculate 3 marks that are farther and father away from the center line\n",
    "    marker_1 = 0.1 * track_width\n",
    "    marker_2 = 0.25 * track_width\n",
    "    marker_3 = 0.5 * track_width\n",
    "\n",
    "    # Give higher reward if the car is closer to center line and vice versa\n",
    "    if distance_from_center <= marker_1:\n",
    "        reward = 1.0\n",
    "    elif distance_from_center <= marker_2:\n",
    "        reward = 0.5\n",
    "    elif distance_from_center <= marker_3:\n",
    "        reward = 0.1\n",
    "    else:\n",
    "        reward = 1e-3  # likely crashed/ close to off track\n",
    "\n",
    "    # Steering penality threshold, change the number based on your action space setting\n",
    "    ABS_STEERING_THRESHOLD = 15 \n",
    "\n",
    "    # Penalize reward if the car is steering too much\n",
    "    if abs_steering > ABS_STEERING_THRESHOLD:\n",
    "        reward *= 0.8\n",
    "\n",
    "    return float(reward)"
   ]
  },
  {
   "cell_type": "markdown",
   "id": "ac9c3d27",
   "metadata": {},
   "source": [
    "To test the reward function, you need to setup a testing parameter.\n",
    "\n",
    "Beside \"track_width\" and \"distance_from_center\", parameter \"steering_angle\" is used, let's setup a testing parameter."
   ]
  },
  {
   "cell_type": "code",
   "execution_count": 8,
   "id": "a598ba37",
   "metadata": {},
   "outputs": [],
   "source": [
    "testing_params = dict()\n",
    "testing_params['track_width'] = 1\n",
    "testing_params['distance_from_center'] = 0.1\n",
    "testing_params['steering_angle'] = -18\n"
   ]
  },
  {
   "cell_type": "markdown",
   "id": "8089d7c5",
   "metadata": {},
   "source": [
    "Then, let's try the reward function:"
   ]
  },
  {
   "cell_type": "code",
   "execution_count": 9,
   "id": "c93b270c",
   "metadata": {},
   "outputs": [
    {
     "data": {
      "text/plain": [
       "0.8"
      ]
     },
     "execution_count": 9,
     "metadata": {},
     "output_type": "execute_result"
    }
   ],
   "source": [
    "reward_function(testing_params)"
   ]
  },
  {
   "cell_type": "markdown",
   "id": "07e708bf",
   "metadata": {},
   "source": [
    "And you can modify the testing_params to test different cases:"
   ]
  },
  {
   "cell_type": "code",
   "execution_count": 10,
   "id": "f71b2e51",
   "metadata": {},
   "outputs": [
    {
     "data": {
      "text/plain": [
       "1.0"
      ]
     },
     "execution_count": 10,
     "metadata": {},
     "output_type": "execute_result"
    }
   ],
   "source": [
    "testing_params['steering_angle'] = -12\n",
    "reward_function(testing_params)"
   ]
  },
  {
   "cell_type": "markdown",
   "id": "4f67b276",
   "metadata": {},
   "source": [
    "Now, you can try to modify the reward_function with customized setting\n",
    "\n",
    "The following is the copy of default first cell, you can try to edit the code without worrying about making things wrong. If you screw up, just delete all the codes you write and then copy the code from the first cell again:"
   ]
  },
  {
   "cell_type": "code",
   "execution_count": 11,
   "id": "486b04af",
   "metadata": {},
   "outputs": [],
   "source": [
    "def reward_function(params):\n",
    "    '''\n",
    "    Example of penalize steering, which helps mitigate zig-zag behaviors\n",
    "    '''\n",
    "    \n",
    "    # Read input parameters\n",
    "    distance_from_center = params['distance_from_center']\n",
    "    track_width = params['track_width']\n",
    "    abs_steering = abs(params['steering_angle']) # Only need the absolute steering angle\n",
    "\n",
    "    # Calculate 3 marks that are farther and father away from the center line\n",
    "    marker_1 = 0.1 * track_width\n",
    "    marker_2 = 0.25 * track_width\n",
    "    marker_3 = 0.5 * track_width\n",
    "\n",
    "    # Give higher reward if the car is closer to center line and vice versa\n",
    "    if distance_from_center <= marker_1:\n",
    "        reward = 1.0\n",
    "    elif distance_from_center <= marker_2:\n",
    "        reward = 0.5\n",
    "    elif distance_from_center <= marker_3:\n",
    "        reward = 0.1\n",
    "    else:\n",
    "        reward = 1e-3  # likely crashed/ close to off track\n",
    "\n",
    "    # Steering penality threshold, change the number based on your action space setting\n",
    "    ABS_STEERING_THRESHOLD = 15 \n",
    "\n",
    "    # Penalize reward if the car is steering too much\n",
    "    if abs_steering > ABS_STEERING_THRESHOLD:\n",
    "        reward *= 0.8\n",
    "\n",
    "    return float(reward)"
   ]
  },
  {
   "cell_type": "markdown",
   "id": "c584fce8",
   "metadata": {},
   "source": [
    "After you modify the reward function, you can test it with testing-params again:"
   ]
  },
  {
   "cell_type": "code",
   "execution_count": 12,
   "id": "19aa975f",
   "metadata": {},
   "outputs": [
    {
     "data": {
      "text/plain": [
       "1.0"
      ]
     },
     "execution_count": 12,
     "metadata": {},
     "output_type": "execute_result"
    }
   ],
   "source": [
    "testing_params['steering_angle'] = -12\n",
    "reward_function(testing_params)"
   ]
  },
  {
   "cell_type": "markdown",
   "id": "052a4125",
   "metadata": {},
   "source": [
    "In the following cells, there are several common grammar error in Python.\n",
    "\n",
    "They are listed here for your reference."
   ]
  },
  {
   "cell_type": "markdown",
   "id": "6b12260c",
   "metadata": {},
   "source": [
    "## Python Tips: *= operator\n",
    "\n",
    "There are special operators like `+=`, `-=`, `*=`, `/=` in program language.\n",
    "\n",
    "They are applied to one variable, and the result will be set back to that variable.\n",
    "\n",
    "The following code will get the value of `a`, increased by 1, then set back to `a`:\n",
    "\n",
    "    a += 1"
   ]
  },
  {
   "cell_type": "code",
   "execution_count": 14,
   "id": "245bd9d9",
   "metadata": {},
   "outputs": [
    {
     "data": {
      "text/plain": [
       "4"
      ]
     },
     "execution_count": 14,
     "metadata": {},
     "output_type": "execute_result"
    }
   ],
   "source": [
    "a = 3\n",
    "a += 1\n",
    "a"
   ]
  },
  {
   "cell_type": "markdown",
   "id": "e36514b4",
   "metadata": {},
   "source": [
    "`b -= 3` will get the value of b, decrease 3, then set back to `b`"
   ]
  },
  {
   "cell_type": "code",
   "execution_count": 15,
   "id": "2c28866e",
   "metadata": {},
   "outputs": [
    {
     "data": {
      "text/plain": [
       "7"
      ]
     },
     "execution_count": 15,
     "metadata": {},
     "output_type": "execute_result"
    }
   ],
   "source": [
    "b = 10\n",
    "b -= 3\n",
    "b"
   ]
  },
  {
   "cell_type": "markdown",
   "id": "3bda0e5f",
   "metadata": {},
   "source": [
    "Similar behavior for `*=` and `/=`"
   ]
  },
  {
   "cell_type": "code",
   "execution_count": 1,
   "id": "6a4638e7",
   "metadata": {},
   "outputs": [
    {
     "data": {
      "text/plain": [
       "21"
      ]
     },
     "execution_count": 1,
     "metadata": {},
     "output_type": "execute_result"
    }
   ],
   "source": [
    "c = 7\n",
    "c *= 3\n",
    "c"
   ]
  },
  {
   "cell_type": "code",
   "execution_count": 2,
   "id": "5075e0ef",
   "metadata": {},
   "outputs": [
    {
     "data": {
      "text/plain": [
       "5.0"
      ]
     },
     "execution_count": 2,
     "metadata": {},
     "output_type": "execute_result"
    }
   ],
   "source": [
    "d = 35\n",
    "d /= 7\n",
    "d"
   ]
  },
  {
   "cell_type": "markdown",
   "id": "a5f87bf2",
   "metadata": {},
   "source": [
    "## Python Tips: abs() function\n",
    "\n",
    "Function abs() will return the absolute value of one variable:"
   ]
  },
  {
   "cell_type": "code",
   "execution_count": 3,
   "id": "01bd5db9",
   "metadata": {},
   "outputs": [
    {
     "data": {
      "text/plain": [
       "8"
      ]
     },
     "execution_count": 3,
     "metadata": {},
     "output_type": "execute_result"
    }
   ],
   "source": [
    "abs(-8)"
   ]
  },
  {
   "cell_type": "code",
   "execution_count": 4,
   "id": "1e6244c2",
   "metadata": {},
   "outputs": [
    {
     "data": {
      "text/plain": [
       "8"
      ]
     },
     "execution_count": 4,
     "metadata": {},
     "output_type": "execute_result"
    }
   ],
   "source": [
    "abs(8)"
   ]
  },
  {
   "cell_type": "code",
   "execution_count": 20,
   "id": "28a48cd3",
   "metadata": {},
   "outputs": [
    {
     "data": {
      "text/plain": [
       "1.333"
      ]
     },
     "execution_count": 20,
     "metadata": {},
     "output_type": "execute_result"
    }
   ],
   "source": [
    "abs(-1.333)"
   ]
  },
  {
   "cell_type": "code",
   "execution_count": null,
   "id": "f1566986",
   "metadata": {},
   "outputs": [],
   "source": []
  },
  {
   "cell_type": "markdown",
   "id": "6701f98f",
   "metadata": {},
   "source": [
    "## Configs and result\n",
    "\n",
    "To train a good model, we can tune the hyper parameters including action space and other training parameters like learning rate, batch size, etc.\n",
    "\n",
    "If you are training your first model, it is recommended to use the default setting.\n",
    "\n",
    "The following chart is the training metrics of the `follow the center line` model with default settings:\n",
    "\n",
    "The Gree line is the averate reward, the Blue line is the finish rate of training, and the Red line is the finish rate of evalution:\n",
    "\n",
    "<img src=\"./images/03_result.png\" width = \"300\"  alt=\"result\"  />\n",
    "\n",
    "\n",
    "\n",
    "And the evaluation results are listed below.\n",
    "\n",
    "<img src=\"./images/03_evaluation.png\" width = \"300\"  alt=\"evaluation\"  />\n",
    "\n",
    "\n",
    "Action space and other hyper parameters are listed as below:\n",
    "\n",
    "<img src=\"./images/03_action_space.png\" width = \"300\"  alt=\"action space\"  />\n",
    "\n",
    "<img src=\"./images/03_hyper_parameters.png\" width = \"300\"  alt=\"hyper parameters\"  />\n",
    "\n"
   ]
  },
  {
   "cell_type": "code",
   "execution_count": null,
   "id": "7627f25c",
   "metadata": {},
   "outputs": [],
   "source": []
  }
 ],
 "metadata": {
  "kernelspec": {
   "display_name": "Python 3 (ipykernel)",
   "language": "python",
   "name": "python3"
  },
  "language_info": {
   "codemirror_mode": {
    "name": "ipython",
    "version": 3
   },
   "file_extension": ".py",
   "mimetype": "text/x-python",
   "name": "python",
   "nbconvert_exporter": "python",
   "pygments_lexer": "ipython3",
   "version": "3.8.8"
  }
 },
 "nbformat": 4,
 "nbformat_minor": 5
}
