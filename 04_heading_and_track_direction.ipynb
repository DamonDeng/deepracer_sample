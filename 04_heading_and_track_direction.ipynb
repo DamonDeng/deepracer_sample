{
 "cells": [
  {
   "cell_type": "markdown",
   "id": "245a9cd7",
   "metadata": {},
   "source": [
    "## Heading direction and track direction"
   ]
  },
  {
   "cell_type": "markdown",
   "id": "e9eb39f9",
   "metadata": {},
   "source": [
    "A reward function using the closest_waypoints parameter.\n",
    "\n",
    "The following example reward function demonstrates how to use waypoints and closest_waypoints as well as heading to calculate immediate rewards.\n",
    "\n",
    "AWS DeepRacer supports the following libraries: math, random, NumPy, SciPy, and Shapely. To use one, add an import statement, import supported library, above your function definition, def function_name(parameters)."
   ]
  },
  {
   "cell_type": "code",
   "execution_count": 4,
   "id": "ff509679",
   "metadata": {},
   "outputs": [],
   "source": [
    "import math\n",
    "\n",
    "def reward_function(params):\n",
    "    ###############################################################################\n",
    "    '''\n",
    "    Example of using waypoints and heading to make the car point in the right direction\n",
    "    '''\n",
    "\n",
    "    # Read input variables\n",
    "    waypoints = params['waypoints']\n",
    "    closest_waypoints = params['closest_waypoints']\n",
    "    heading = params['heading']\n",
    "\n",
    "    # Initialize the reward with typical value\n",
    "    reward = 1.0\n",
    "\n",
    "    # Calculate the direction of the center line based on the closest waypoints\n",
    "    next_point = waypoints[closest_waypoints[1]]\n",
    "    prev_point = waypoints[closest_waypoints[0]]\n",
    "\n",
    "    # Calculate the direction in radius, arctan2(dy, dx), the result is (-pi, pi) in radians\n",
    "    track_direction = math.atan2(next_point[1] - prev_point[1], next_point[0] - prev_point[0])\n",
    "    # Convert to degree\n",
    "    track_direction = math.degrees(track_direction)\n",
    "\n",
    "    # Calculate the difference between the track direction and the heading direction of the car\n",
    "    direction_diff = abs(track_direction - heading)\n",
    "    if direction_diff > 180:\n",
    "        direction_diff = 360 - direction_diff\n",
    "\n",
    "    # Penalize the reward if the difference is too large\n",
    "    DIRECTION_THRESHOLD = 10.0\n",
    "    if direction_diff > DIRECTION_THRESHOLD:\n",
    "        reward *= 0.5\n",
    "\n",
    "    return float(reward)"
   ]
  },
  {
   "cell_type": "markdown",
   "id": "91e79d0b",
   "metadata": {},
   "source": [
    "As track data is used in the reward_function, we need a testing param with detail track data.\n",
    "\n",
    "A tool was created to generate param data collected from real log file.\n",
    "\n",
    "Use the following code to import the tool:"
   ]
  },
  {
   "cell_type": "code",
   "execution_count": 1,
   "id": "9b0245ef",
   "metadata": {},
   "outputs": [],
   "source": [
    "from race_utils import SampleGenerator\n",
    "generator = SampleGenerator()"
   ]
  },
  {
   "cell_type": "markdown",
   "id": "4cc8b12f",
   "metadata": {},
   "source": [
    "Then we can call the generator.random_sample() to create a random sample:"
   ]
  },
  {
   "cell_type": "code",
   "execution_count": 2,
   "id": "b4133933",
   "metadata": {},
   "outputs": [],
   "source": [
    "testing_param = generator.random_sample()"
   ]
  },
  {
   "cell_type": "markdown",
   "id": "e4c97352",
   "metadata": {},
   "source": [
    "Now, we can start to test it:"
   ]
  },
  {
   "cell_type": "code",
   "execution_count": 5,
   "id": "531a9f9c",
   "metadata": {},
   "outputs": [
    {
     "data": {
      "text/plain": [
       "1.0"
      ]
     },
     "execution_count": 5,
     "metadata": {},
     "output_type": "execute_result"
    }
   ],
   "source": [
    "reward_function(testing_param)"
   ]
  },
  {
   "cell_type": "code",
   "execution_count": null,
   "id": "e785d673",
   "metadata": {},
   "outputs": [],
   "source": []
  }
 ],
 "metadata": {
  "kernelspec": {
   "display_name": "Python 3 (ipykernel)",
   "language": "python",
   "name": "python3"
  },
  "language_info": {
   "codemirror_mode": {
    "name": "ipython",
    "version": 3
   },
   "file_extension": ".py",
   "mimetype": "text/x-python",
   "name": "python",
   "nbconvert_exporter": "python",
   "pygments_lexer": "ipython3",
   "version": "3.8.8"
  }
 },
 "nbformat": 4,
 "nbformat_minor": 5
}
