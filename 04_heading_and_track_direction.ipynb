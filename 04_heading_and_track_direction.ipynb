{
 "cells": [
  {
   "cell_type": "markdown",
   "id": "245a9cd7",
   "metadata": {},
   "source": [
    "## Heading direction and track direction"
   ]
  },
  {
   "cell_type": "markdown",
   "id": "e9eb39f9",
   "metadata": {},
   "source": [
    "A reward function get higher reward if the car heading direction is closed to track direction.\n",
    "\n",
    "The heading direction of car can be retrived from parameter \"heading\".\n",
    "\n",
    "While the direction of track need to be caculated using two waypoints: the waypoint behind the car, and the waypoint in front of the car.\n",
    "\n",
    "And we need some math caculattion to get the track direction. Don't worry about the math, there is a package name `math` can be `import`, and there are a lots of well written math functions in the package.\n",
    "\n",
    "And the sample code also shows you how to caculate the direction with crazy math functions like `math.degree`, `math.atan`.\n"
   ]
  },
  {
   "cell_type": "code",
   "execution_count": 12,
   "id": "ff509679",
   "metadata": {},
   "outputs": [],
   "source": [
    "import math\n",
    "\n",
    "def reward_function(params):\n",
    "    ###############################################################################\n",
    "    '''\n",
    "    Example of using waypoints and heading to make the car point in the right direction\n",
    "    '''\n",
    "\n",
    "    # Read input variables\n",
    "    waypoints = params['waypoints']\n",
    "    closest_waypoints = params['closest_waypoints']\n",
    "    heading = params['heading']\n",
    "\n",
    "    # Initialize the reward with typical value\n",
    "    reward = 1.0\n",
    "\n",
    "    # Calculate the direction of the center line based on the closest waypoints\n",
    "    next_point = waypoints[closest_waypoints[1]]\n",
    "    prev_point = waypoints[closest_waypoints[0]]\n",
    "\n",
    "    # Calculate the direction in radius, arctan2(dy, dx), the result is (-pi, pi) in radians\n",
    "    track_direction = math.atan2(next_point[1] - prev_point[1], next_point[0] - prev_point[0])\n",
    "    # Convert to degree\n",
    "    track_direction = math.degrees(track_direction)\n",
    "\n",
    "    # Calculate the difference between the track direction and the heading direction of the car\n",
    "    direction_diff = abs(track_direction - heading)\n",
    "    if direction_diff > 180:\n",
    "        direction_diff = 360 - direction_diff\n",
    "\n",
    "    # Penalize the reward if the difference is too large\n",
    "    DIRECTION_THRESHOLD = 10.0\n",
    "    if direction_diff > DIRECTION_THRESHOLD:\n",
    "        reward *= 0.5\n",
    "\n",
    "    return float(reward)"
   ]
  },
  {
   "cell_type": "markdown",
   "id": "91e79d0b",
   "metadata": {},
   "source": [
    "As track data is used in the reward_function, we need a testing param with detail track data.\n",
    "\n",
    "A tool was created to generate param data collected from real log file.\n",
    "\n",
    "Use the following code to import the tool:"
   ]
  },
  {
   "cell_type": "code",
   "execution_count": 13,
   "id": "9b0245ef",
   "metadata": {},
   "outputs": [],
   "source": [
    "from race_utils import SampleGenerator\n",
    "generator = SampleGenerator()"
   ]
  },
  {
   "cell_type": "markdown",
   "id": "4cc8b12f",
   "metadata": {},
   "source": [
    "Then we can call the generator.random_sample() to create a random sample:"
   ]
  },
  {
   "cell_type": "code",
   "execution_count": 27,
   "id": "b4133933",
   "metadata": {},
   "outputs": [],
   "source": [
    "params = generator.random_sample()"
   ]
  },
  {
   "cell_type": "markdown",
   "id": "e4c97352",
   "metadata": {},
   "source": [
    "Now, we can start to test it:"
   ]
  },
  {
   "cell_type": "code",
   "execution_count": 28,
   "id": "531a9f9c",
   "metadata": {},
   "outputs": [
    {
     "data": {
      "text/plain": [
       "0.5"
      ]
     },
     "execution_count": 28,
     "metadata": {},
     "output_type": "execute_result"
    }
   ],
   "source": [
    "reward_function(params)"
   ]
  },
  {
   "cell_type": "markdown",
   "id": "7b4f400a",
   "metadata": {},
   "source": [
    "## Python Tips: data list\n",
    "\n",
    "In python, there is a data struction named `list`, it is a sequence of data, can be number, string, or even another list."
   ]
  },
  {
   "cell_type": "markdown",
   "id": "0b433e1e",
   "metadata": {},
   "source": [
    "The following variable is a simple list:"
   ]
  },
  {
   "cell_type": "code",
   "execution_count": 19,
   "id": "2294ae53",
   "metadata": {},
   "outputs": [],
   "source": [
    "testing_list = [1,2,3,4,5,6]"
   ]
  },
  {
   "cell_type": "markdown",
   "id": "50fe9c36",
   "metadata": {},
   "source": [
    "And you can access the item with index from `0` to `length - 1` "
   ]
  },
  {
   "cell_type": "code",
   "execution_count": 20,
   "id": "5daacfd9",
   "metadata": {},
   "outputs": [
    {
     "data": {
      "text/plain": [
       "1"
      ]
     },
     "execution_count": 20,
     "metadata": {},
     "output_type": "execute_result"
    }
   ],
   "source": [
    "testing_list[0]"
   ]
  },
  {
   "cell_type": "code",
   "execution_count": 21,
   "id": "367b9beb",
   "metadata": {},
   "outputs": [
    {
     "data": {
      "text/plain": [
       "4"
      ]
     },
     "execution_count": 21,
     "metadata": {},
     "output_type": "execute_result"
    }
   ],
   "source": [
    "testing_list[3]"
   ]
  },
  {
   "cell_type": "markdown",
   "id": "d6101855",
   "metadata": {},
   "source": [
    "And the following is a list contains numbers and strings:"
   ]
  },
  {
   "cell_type": "code",
   "execution_count": 22,
   "id": "972e94b0",
   "metadata": {},
   "outputs": [],
   "source": [
    "testing_list_2 = ['dog', 3, 'cat', 100, 34.5]"
   ]
  },
  {
   "cell_type": "code",
   "execution_count": 23,
   "id": "085b0930",
   "metadata": {},
   "outputs": [
    {
     "data": {
      "text/plain": [
       "'dog'"
      ]
     },
     "execution_count": 23,
     "metadata": {},
     "output_type": "execute_result"
    }
   ],
   "source": [
    "testing_list_2[0]"
   ]
  },
  {
   "cell_type": "code",
   "execution_count": 24,
   "id": "a68dd2d7",
   "metadata": {},
   "outputs": [
    {
     "data": {
      "text/plain": [
       "34.5"
      ]
     },
     "execution_count": 24,
     "metadata": {},
     "output_type": "execute_result"
    }
   ],
   "source": [
    "testing_list_2[4]"
   ]
  },
  {
   "cell_type": "markdown",
   "id": "b458574d",
   "metadata": {},
   "source": [
    "Using index larger than `length - 1` will cause error:"
   ]
  },
  {
   "cell_type": "code",
   "execution_count": 25,
   "id": "0026be64",
   "metadata": {},
   "outputs": [
    {
     "ename": "IndexError",
     "evalue": "list index out of range",
     "output_type": "error",
     "traceback": [
      "\u001b[0;31m---------------------------------------------------------------------------\u001b[0m",
      "\u001b[0;31mIndexError\u001b[0m                                Traceback (most recent call last)",
      "\u001b[0;32m/var/folders/5b/1j9p58n93l7b6wj7szqcyv78nc656r/T/ipykernel_61648/2770899750.py\u001b[0m in \u001b[0;36m<module>\u001b[0;34m\u001b[0m\n\u001b[0;32m----> 1\u001b[0;31m \u001b[0mtesting_list\u001b[0m\u001b[0;34m[\u001b[0m\u001b[0;36m300\u001b[0m\u001b[0;34m]\u001b[0m\u001b[0;34m\u001b[0m\u001b[0;34m\u001b[0m\u001b[0m\n\u001b[0m",
      "\u001b[0;31mIndexError\u001b[0m: list index out of range"
     ]
    }
   ],
   "source": [
    "testing_list[300]"
   ]
  },
  {
   "cell_type": "markdown",
   "id": "40001efc",
   "metadata": {},
   "source": [
    "In the DeepRacer service, parameter \"waypoints\" is a list, it contains all the waypoint of the track you are running on.\n",
    "\n",
    "You can get the first waypoint with the following code:"
   ]
  },
  {
   "cell_type": "code",
   "execution_count": 31,
   "id": "03159360",
   "metadata": {},
   "outputs": [
    {
     "data": {
      "text/plain": [
       "(3.059733510017395, 0.6826554089784622)"
      ]
     },
     "execution_count": 31,
     "metadata": {},
     "output_type": "execute_result"
    }
   ],
   "source": [
    "params['waypoints'][0]"
   ]
  },
  {
   "cell_type": "markdown",
   "id": "93e2b5e1",
   "metadata": {},
   "source": [
    "There are two values in one waypoint, which is `x` and `y` value of that waypoint:"
   ]
  },
  {
   "cell_type": "code",
   "execution_count": 32,
   "id": "9aeb8aac",
   "metadata": {},
   "outputs": [
    {
     "data": {
      "text/plain": [
       "3.059733510017395"
      ]
     },
     "execution_count": 32,
     "metadata": {},
     "output_type": "execute_result"
    }
   ],
   "source": [
    "# x\n",
    "params['waypoints'][0][0]"
   ]
  },
  {
   "cell_type": "code",
   "execution_count": 33,
   "id": "e55d720d",
   "metadata": {},
   "outputs": [
    {
     "data": {
      "text/plain": [
       "0.6826554089784622"
      ]
     },
     "execution_count": 33,
     "metadata": {},
     "output_type": "execute_result"
    }
   ],
   "source": [
    "# y\n",
    "params['waypoints'][0][1]"
   ]
  },
  {
   "cell_type": "markdown",
   "id": "41c2ec96",
   "metadata": {},
   "source": [
    "And the other parameter `closest_waypoints` is a list two, containing two value, which is the index of previous waypoint and next waypoint:"
   ]
  },
  {
   "cell_type": "code",
   "execution_count": 36,
   "id": "786165e6",
   "metadata": {},
   "outputs": [],
   "source": [
    "closest_waypoints = params['closest_waypoints']"
   ]
  },
  {
   "cell_type": "code",
   "execution_count": 37,
   "id": "4a10a2fa",
   "metadata": {},
   "outputs": [
    {
     "data": {
      "text/plain": [
       "[110, 111]"
      ]
     },
     "execution_count": 37,
     "metadata": {},
     "output_type": "execute_result"
    }
   ],
   "source": [
    "closest_waypoints"
   ]
  },
  {
   "cell_type": "markdown",
   "id": "fc8ecdf4",
   "metadata": {},
   "source": [
    "Then you can use `closest_waypoints[0]` to get previous waypoint index:"
   ]
  },
  {
   "cell_type": "code",
   "execution_count": 38,
   "id": "0df0b5e3",
   "metadata": {},
   "outputs": [
    {
     "data": {
      "text/plain": [
       "110"
      ]
     },
     "execution_count": 38,
     "metadata": {},
     "output_type": "execute_result"
    }
   ],
   "source": [
    "closest_waypoints[0]"
   ]
  },
  {
   "cell_type": "markdown",
   "id": "512b04c4",
   "metadata": {},
   "source": [
    "And next waypoint with `closest_waypoints[1]`"
   ]
  },
  {
   "cell_type": "code",
   "execution_count": 39,
   "id": "90456d49",
   "metadata": {},
   "outputs": [
    {
     "data": {
      "text/plain": [
       "111"
      ]
     },
     "execution_count": 39,
     "metadata": {},
     "output_type": "execute_result"
    }
   ],
   "source": [
    "closest_waypoints[1]"
   ]
  },
  {
   "cell_type": "markdown",
   "id": "c0046fe7",
   "metadata": {},
   "source": [
    "Then you can understand now, why the following code can give you next_point and prev_point"
   ]
  },
  {
   "cell_type": "code",
   "execution_count": 40,
   "id": "66e48be6",
   "metadata": {},
   "outputs": [],
   "source": [
    "closest_waypoints = params['closest_waypoints']\n",
    "\n",
    "next_point = waypoints[closest_waypoints[1]]\n",
    "prev_point = waypoints[closest_waypoints[0]]"
   ]
  },
  {
   "cell_type": "code",
   "execution_count": 41,
   "id": "2d42c1bd",
   "metadata": {},
   "outputs": [
    {
     "data": {
      "text/plain": [
       "(2.011545956134796, 0.6859170347452164)"
      ]
     },
     "execution_count": 41,
     "metadata": {},
     "output_type": "execute_result"
    }
   ],
   "source": [
    "next_point"
   ]
  },
  {
   "cell_type": "code",
   "execution_count": 42,
   "id": "74d4610c",
   "metadata": {},
   "outputs": [
    {
     "data": {
      "text/plain": [
       "(1.862565040588379, 0.7073544710874557)"
      ]
     },
     "execution_count": 42,
     "metadata": {},
     "output_type": "execute_result"
    }
   ],
   "source": [
    "prev_point"
   ]
  },
  {
   "cell_type": "code",
   "execution_count": null,
   "id": "247e7344",
   "metadata": {},
   "outputs": [],
   "source": []
  }
 ],
 "metadata": {
  "kernelspec": {
   "display_name": "Python 3 (ipykernel)",
   "language": "python",
   "name": "python3"
  },
  "language_info": {
   "codemirror_mode": {
    "name": "ipython",
    "version": 3
   },
   "file_extension": ".py",
   "mimetype": "text/x-python",
   "name": "python",
   "nbconvert_exporter": "python",
   "pygments_lexer": "ipython3",
   "version": "3.8.8"
  }
 },
 "nbformat": 4,
 "nbformat_minor": 5
}
