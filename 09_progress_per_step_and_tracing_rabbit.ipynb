{
 "cells": [
  {
   "cell_type": "code",
   "execution_count": 3,
   "id": "21614f5f",
   "metadata": {},
   "outputs": [],
   "source": [
    "import math\n",
    "\n",
    "def reward_function(params):\n",
    "    '''\n",
    "    Example of rewarding the agent to follow center line\n",
    "    '''\n",
    "    \n",
    "    # Read all input parameters\n",
    "    all_wheels_on_track = params['all_wheels_on_track']\n",
    "    x = params['x']\n",
    "    y = params['y']\n",
    "    distance_from_center = params['distance_from_center']\n",
    "    is_left_of_center = params['is_left_of_center']\n",
    "    heading = params['heading']\n",
    "    progress = params['progress']\n",
    "    steps = params['steps']\n",
    "    speed = params['speed']\n",
    "    steering_angle = params['steering_angle']\n",
    "    track_width = params['track_width']\n",
    "    waypoints = params['waypoints']\n",
    "    closest_waypoints = params['closest_waypoints']\n",
    "    is_offtrack = params['is_offtrack']\n",
    "    \n",
    "    ###### expected progress \n",
    "    reward = 0.0\n",
    "    \n",
    "    expected_steps = 105 # for re:invent 2018, finish one lap in 7 seconds, 15*7 = 105 steps\n",
    "    \n",
    "    expected_progress_per_step = 100/expected_steps\n",
    "    \n",
    "    expected_progress = expected_progress_per_step * steps\n",
    "    \n",
    "    progress_reward = progress/expected_progress\n",
    "    \n",
    "    ##### tracing rabbit\n",
    "    waypoints_length = len(waypoints)\n",
    "    \n",
    "    front_waypoint = params['closest_waypoints'][1]\n",
    "    \n",
    "    rabbit_waypoint = front_waypoint + 1\n",
    "    \n",
    "    if (rabbit_waypoint >= waypoints_length):\n",
    "        rabbit_waypoint = rabbit_waypoint % waypoints_length\n",
    "    \n",
    "    rabbit = [waypoints[rabbit_waypoint][0],waypoints[rabbit_waypoint][1]]\n",
    "    \n",
    "    radius = math.hypot(x - rabbit[0], y - rabbit[1])\n",
    "    \n",
    "    pointing = [0,0]\n",
    "    pointing[0] = x + (radius * math.cos(heading))\n",
    "    pointing[1] = y + (radius * math.sin(heading))\n",
    "    \n",
    "    vector_delta = math.hypot(pointing[0] - rabbit[0], pointing[1] - rabbit[1])\n",
    "    \n",
    "    \n",
    "    \n",
    "    rabbit_reward = ( 1 - ( vector_delta / (radius * 2)))\n",
    "    \n",
    "    reward += progress_reward\n",
    "    reward += rabbit_reward\n",
    "    \n",
    "    \n",
    "#     print(params)\n",
    "#     print(\"=====progress reward: %f\" % progress_reward)\n",
    "#     print(\"=====rabbit reward: %f\" % rabbit_reward)\n",
    "#     print(\"=====reward: %f\" % reward)\n",
    "    \n",
    "    return float(reward)"
   ]
  },
  {
   "cell_type": "code",
   "execution_count": 4,
   "id": "5a9a5fb7",
   "metadata": {},
   "outputs": [],
   "source": [
    "from race_utils import SampleGenerator\n",
    "generator = SampleGenerator()\n",
    "params = generator.random_sample()"
   ]
  },
  {
   "cell_type": "code",
   "execution_count": 5,
   "id": "6481e08c",
   "metadata": {},
   "outputs": [
    {
     "data": {
      "text/plain": [
       "1.2053483223866839"
      ]
     },
     "execution_count": 5,
     "metadata": {},
     "output_type": "execute_result"
    }
   ],
   "source": [
    "reward_function(params)"
   ]
  },
  {
   "cell_type": "markdown",
   "id": "032ed231",
   "metadata": {},
   "source": [
    "tracing faster rabbit with heading and steering_angle"
   ]
  },
  {
   "cell_type": "code",
   "execution_count": null,
   "id": "cce89c50",
   "metadata": {},
   "outputs": [],
   "source": [
    "import math\n",
    "\n",
    "def reward_function(params):\n",
    "\n",
    "    x = params['x']\n",
    "    y = params['y']\n",
    "    heading = params['heading']\n",
    "    waypoints = params['waypoints']\n",
    "    steering_angle = params['steering_angle']\n",
    "    \n",
    "    waypoints_length = len(waypoints)\n",
    "    \n",
    "    front_waypoint = params['closest_waypoints'][1]\n",
    "    \n",
    "    rabbit_waypoint = front_waypoint + 2\n",
    "    \n",
    "    if (rabbit_waypoint >= waypoints_length):\n",
    "        rabbit_waypoint = rabbit_waypoint % waypoints_length\n",
    "    \n",
    "    rabbit = [waypoints[rabbit_waypoint][0],waypoints[rabbit_waypoint][1]]\n",
    "    \n",
    "    radius = math.hypot(x - rabbit[0], y - rabbit[1])\n",
    "    \n",
    "    pointing = [0,0]\n",
    "    pointing[0] = x + (radius * math.cos(heading + steering_angle))\n",
    "    pointing[1] = y + (radius * math.sin(heading + steering_angle))\n",
    "    \n",
    "    vector_delta = math.hypot(pointing[0] - rabbit[0], pointing[1] - rabbit[1])\n",
    "    \n",
    "    reward = 0.001\n",
    "    \n",
    "    reward += ( 1 - ( vector_delta / (radius * 2)))\n",
    "    \n",
    "    print(params)\n",
    "    print(\"===Reward: %f\" % reward)\n",
    "    \n",
    "    return(reward)"
   ]
  }
 ],
 "metadata": {
  "kernelspec": {
   "display_name": "Python 3 (ipykernel)",
   "language": "python",
   "name": "python3"
  },
  "language_info": {
   "codemirror_mode": {
    "name": "ipython",
    "version": 3
   },
   "file_extension": ".py",
   "mimetype": "text/x-python",
   "name": "python",
   "nbconvert_exporter": "python",
   "pygments_lexer": "ipython3",
   "version": "3.8.8"
  }
 },
 "nbformat": 4,
 "nbformat_minor": 5
}
