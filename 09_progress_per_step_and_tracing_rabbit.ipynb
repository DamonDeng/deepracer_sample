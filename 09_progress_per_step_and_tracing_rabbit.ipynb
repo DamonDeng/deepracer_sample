{
 "cells": [
  {
   "cell_type": "markdown",
   "id": "fba8f208",
   "metadata": {},
   "source": [
    "## Combining tracing rabbit and progress per step.\n",
    "\n",
    "As the model `tracing rabbit` and `progress per step` work well, and one of them in charge of steering and the other in charge of speed, it is a good approach to combining two of them.\n",
    "\n",
    "We will introduce the formal way to combine two reward functions in this session.\n",
    "\n",
    "Generally, while trying to combine two reward functions, we get clear understanding of both functions and then implement the program logic into one function: "
   ]
  },
  {
   "cell_type": "code",
   "execution_count": 1,
   "id": "21614f5f",
   "metadata": {},
   "outputs": [],
   "source": [
    "import math\n",
    "\n",
    "def reward_function(params):\n",
    "    \n",
    "    # Read all input parameters\n",
    "    all_wheels_on_track = params['all_wheels_on_track']\n",
    "    x = params['x']\n",
    "    y = params['y']\n",
    "    distance_from_center = params['distance_from_center']\n",
    "    is_left_of_center = params['is_left_of_center']\n",
    "    heading = params['heading']\n",
    "    progress = params['progress']\n",
    "    steps = params['steps']\n",
    "    speed = params['speed']\n",
    "    steering_angle = params['steering_angle']\n",
    "    track_width = params['track_width']\n",
    "    waypoints = params['waypoints']\n",
    "    closest_waypoints = params['closest_waypoints']\n",
    "    is_offtrack = params['is_offtrack']\n",
    "    \n",
    "    ###### expected progress \n",
    "    reward = 0.0\n",
    "    \n",
    "    expected_steps = 105 # for re:invent 2018, finish one lap in 7 seconds, 15*7 = 105 steps\n",
    "    \n",
    "    expected_progress_per_step = 100/expected_steps\n",
    "    \n",
    "    expected_progress = expected_progress_per_step * steps\n",
    "    \n",
    "    progress_reward = progress/expected_progress\n",
    "    \n",
    "    ##### tracing rabbit\n",
    "    waypoints_length = len(waypoints)\n",
    "    \n",
    "    front_waypoint = params['closest_waypoints'][1]\n",
    "    \n",
    "    rabbit_waypoint = front_waypoint + 1\n",
    "    \n",
    "    if (rabbit_waypoint >= waypoints_length):\n",
    "        rabbit_waypoint = rabbit_waypoint % waypoints_length\n",
    "    \n",
    "    rabbit = [waypoints[rabbit_waypoint][0],waypoints[rabbit_waypoint][1]]\n",
    "    \n",
    "    radius = math.hypot(x - rabbit[0], y - rabbit[1])\n",
    "    \n",
    "    pointing = [0,0]\n",
    "    pointing[0] = x + (radius * math.cos(heading))\n",
    "    pointing[1] = y + (radius * math.sin(heading))\n",
    "    \n",
    "    vector_delta = math.hypot(pointing[0] - rabbit[0], pointing[1] - rabbit[1])\n",
    "    \n",
    "    \n",
    "    \n",
    "    rabbit_reward = ( 1 - ( vector_delta / (radius * 2)))\n",
    "    \n",
    "    reward += progress_reward\n",
    "    reward += rabbit_reward\n",
    "    \n",
    "    \n",
    "#     print(params)\n",
    "#     print(\"=====progress reward: %f\" % progress_reward)\n",
    "#     print(\"=====rabbit reward: %f\" % rabbit_reward)\n",
    "#     print(\"=====reward: %f\" % reward)\n",
    "    \n",
    "    return float(reward)"
   ]
  },
  {
   "cell_type": "code",
   "execution_count": 4,
   "id": "5a9a5fb7",
   "metadata": {},
   "outputs": [],
   "source": [
    "from race_utils import SampleGenerator\n",
    "generator = SampleGenerator()\n",
    "params = generator.random_sample()"
   ]
  },
  {
   "cell_type": "code",
   "execution_count": 5,
   "id": "6481e08c",
   "metadata": {},
   "outputs": [
    {
     "data": {
      "text/plain": [
       "1.2053483223866839"
      ]
     },
     "execution_count": 5,
     "metadata": {},
     "output_type": "execute_result"
    }
   ],
   "source": [
    "reward_function(params)"
   ]
  },
  {
   "cell_type": "markdown",
   "id": "18f6ad09",
   "metadata": {},
   "source": [
    "## Configs and result\n",
    "\n",
    "\n",
    "The following chart is the training metrics of the `Progress per step and tracing rabbit` model with higer speed. \n",
    "\n",
    "In this model, we set the action space to discrete space.\n",
    "\n",
    "One benifit of setting discrete action space is tuning different speed for different steering angle.\n",
    "\n",
    "We want the car to keep in 1.4 meters per second while taking the U turn, at the same time we hope the car to go fater while it is runing on straight race line.\n",
    "\n",
    "So we set the speed of 30 degrees and -30 degress to 1.4 meters per second. And we set the min speed of 0 degree to 2 meters per second. \n",
    "\n",
    "\n",
    "\n",
    "<img src=\"./images/09_result.png\" width = \"300\"  alt=\"result\"  />\n",
    "\n",
    "\n",
    "\n",
    "And the evaluation results are listed below.\n",
    "\n",
    "All of the three evalutions reach 100% progress, with the time used being 10 seconds.\n",
    "\n",
    "And it took 31 seconds to finish 3 laps.\n",
    "\n",
    "<img src=\"./images/09_evaluation.png\" width = \"300\"  alt=\"evaluation\"  />\n",
    "\n",
    "\n",
    "Action space and other hyper parameters are listed as below:\n",
    "\n",
    "<img src=\"./images/09_action_space.png\" width = \"300\"  alt=\"action space\"  />\n",
    "\n",
    "<img src=\"./images/09_hyper_parameters.png\" width = \"300\"  alt=\"hyper parameters\"  />\n",
    "\n"
   ]
  },
  {
   "cell_type": "code",
   "execution_count": null,
   "id": "6b573690",
   "metadata": {},
   "outputs": [],
   "source": []
  }
 ],
 "metadata": {
  "kernelspec": {
   "display_name": "Python 3 (ipykernel)",
   "language": "python",
   "name": "python3"
  },
  "language_info": {
   "codemirror_mode": {
    "name": "ipython",
    "version": 3
   },
   "file_extension": ".py",
   "mimetype": "text/x-python",
   "name": "python",
   "nbconvert_exporter": "python",
   "pygments_lexer": "ipython3",
   "version": "3.8.8"
  }
 },
 "nbformat": 4,
 "nbformat_minor": 5
}
