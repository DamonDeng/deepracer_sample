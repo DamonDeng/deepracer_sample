{
 "cells": [
  {
   "cell_type": "markdown",
   "id": "d3e71908",
   "metadata": {},
   "source": [
    "it is a playground notebook for related data, such as track length, waypoint distance, car size"
   ]
  },
  {
   "cell_type": "code",
   "execution_count": 22,
   "id": "d51ed93a",
   "metadata": {},
   "outputs": [],
   "source": [
    "import math"
   ]
  },
  {
   "cell_type": "code",
   "execution_count": 1,
   "id": "15f2fc83",
   "metadata": {},
   "outputs": [
    {
     "data": {
      "text/plain": [
       "105"
      ]
     },
     "execution_count": 1,
     "metadata": {},
     "output_type": "execute_result"
    }
   ],
   "source": [
    "7*15"
   ]
  },
  {
   "cell_type": "code",
   "execution_count": 2,
   "id": "da5a9b0f",
   "metadata": {},
   "outputs": [
    {
     "data": {
      "text/plain": [
       "0.9523809523809523"
      ]
     },
     "execution_count": 2,
     "metadata": {},
     "output_type": "execute_result"
    }
   ],
   "source": [
    "100/105"
   ]
  },
  {
   "cell_type": "code",
   "execution_count": 4,
   "id": "c4eba52c",
   "metadata": {},
   "outputs": [
    {
     "data": {
      "text/plain": [
       "0.09523809523809525"
      ]
     },
     "execution_count": 4,
     "metadata": {},
     "output_type": "execute_result"
    }
   ],
   "source": [
    "1/105 *10"
   ]
  },
  {
   "cell_type": "code",
   "execution_count": 5,
   "id": "4dca9eb5",
   "metadata": {},
   "outputs": [
    {
     "data": {
      "text/plain": [
       "0.3333333333333333"
      ]
     },
     "execution_count": 5,
     "metadata": {},
     "output_type": "execute_result"
    }
   ],
   "source": [
    "100/300"
   ]
  },
  {
   "cell_type": "code",
   "execution_count": 6,
   "id": "26736ca5",
   "metadata": {},
   "outputs": [
    {
     "data": {
      "text/plain": [
       "0.5"
      ]
     },
     "execution_count": 6,
     "metadata": {},
     "output_type": "execute_result"
    }
   ],
   "source": [
    "1/2"
   ]
  },
  {
   "cell_type": "code",
   "execution_count": 7,
   "id": "57cb818b",
   "metadata": {},
   "outputs": [],
   "source": [
    "from race_utils import SampleGenerator\n",
    "generator = SampleGenerator()"
   ]
  },
  {
   "cell_type": "code",
   "execution_count": 8,
   "id": "1f57d6ea",
   "metadata": {},
   "outputs": [],
   "source": [
    "testing_param = generator.random_sample()"
   ]
  },
  {
   "cell_type": "code",
   "execution_count": 10,
   "id": "fc1f1117",
   "metadata": {},
   "outputs": [],
   "source": [
    "waypoints = testing_param['waypoints']"
   ]
  },
  {
   "cell_type": "code",
   "execution_count": 11,
   "id": "085bc095",
   "metadata": {},
   "outputs": [
    {
     "data": {
      "text/plain": [
       "119"
      ]
     },
     "execution_count": 11,
     "metadata": {},
     "output_type": "execute_result"
    }
   ],
   "source": [
    "len(waypoints)"
   ]
  },
  {
   "cell_type": "code",
   "execution_count": 13,
   "id": "111d5697",
   "metadata": {},
   "outputs": [
    {
     "data": {
      "text/plain": [
       "0.1488164653851668"
      ]
     },
     "execution_count": 13,
     "metadata": {},
     "output_type": "execute_result"
    }
   ],
   "source": [
    "testing_param['track_length']/len(waypoints)"
   ]
  },
  {
   "cell_type": "code",
   "execution_count": 15,
   "id": "6c2fdfe7",
   "metadata": {},
   "outputs": [],
   "source": [
    "step_time = 1/15"
   ]
  },
  {
   "cell_type": "code",
   "execution_count": 16,
   "id": "7db6a99f",
   "metadata": {},
   "outputs": [
    {
     "data": {
      "text/plain": [
       "0.09333333333333332"
      ]
     },
     "execution_count": 16,
     "metadata": {},
     "output_type": "execute_result"
    }
   ],
   "source": [
    "1.4 * step_time"
   ]
  },
  {
   "cell_type": "code",
   "execution_count": 17,
   "id": "21342131",
   "metadata": {},
   "outputs": [
    {
     "data": {
      "text/plain": [
       "0.26666666666666666"
      ]
     },
     "execution_count": 17,
     "metadata": {},
     "output_type": "execute_result"
    }
   ],
   "source": [
    "4.0 * step_time"
   ]
  },
  {
   "cell_type": "code",
   "execution_count": 27,
   "id": "90ffaf56",
   "metadata": {},
   "outputs": [
    {
     "data": {
      "text/plain": [
       "[21, 22]"
      ]
     },
     "execution_count": 27,
     "metadata": {},
     "output_type": "execute_result"
    }
   ],
   "source": [
    "testing_param['closest_waypoints']"
   ]
  },
  {
   "cell_type": "code",
   "execution_count": 28,
   "id": "328d2fb0",
   "metadata": {},
   "outputs": [],
   "source": [
    "params = testing_param"
   ]
  },
  {
   "cell_type": "code",
   "execution_count": 45,
   "id": "35d655f3",
   "metadata": {},
   "outputs": [],
   "source": [
    "x = params['x']\n",
    "y = params['y']\n",
    "heading = params['heading']\n",
    "waypoints = params['waypoints']\n",
    "\n",
    "waypoints_length = len(waypoints)\n",
    "\n",
    "front_waypoint = params['closest_waypoints'][1]\n",
    "\n",
    "rabbit_waypoint = front_waypoint + 1\n",
    "\n",
    "if (rabbit_waypoint >= waypoints_length):\n",
    "    rabbit_waypoint = rabbit_waypoint % waypoints_length\n",
    "\n",
    "rabbit = [waypoints[rabbit_waypoint][0],waypoints[rabbit_waypoint][1]]\n",
    "\n",
    "radius = math.hypot(x - rabbit[0], y - rabbit[1])\n",
    "\n",
    "pointing = [0,0]\n",
    "pointing[0] = x + (radius * math.cos(heading))\n",
    "pointing[1] = y + (radius * math.sin(heading))\n",
    "\n",
    "vector_delta = math.hypot(pointing[0] - rabbit[0], pointing[1] - rabbit[1])\n",
    "\n",
    "reward = 0.001\n",
    "\n",
    "reward += ( 1 - ( vector_delta / (radius * 2)))"
   ]
  },
  {
   "cell_type": "code",
   "execution_count": 46,
   "id": "e2c7c239",
   "metadata": {},
   "outputs": [
    {
     "data": {
      "text/plain": [
       "0.2609690566769455"
      ]
     },
     "execution_count": 46,
     "metadata": {},
     "output_type": "execute_result"
    }
   ],
   "source": [
    "reward"
   ]
  },
  {
   "cell_type": "code",
   "execution_count": null,
   "id": "3f288b90",
   "metadata": {},
   "outputs": [],
   "source": []
  },
  {
   "cell_type": "code",
   "execution_count": 36,
   "id": "55bfb53c",
   "metadata": {},
   "outputs": [],
   "source": [
    "front_waypoint = params['closest_waypoints'][1]\n",
    "\n",
    "rabbit_waypoint = front_waypoint + 1\n",
    "\n",
    "rabbit = [waypoints[rabbit_waypoint][0],waypoints[rabbit_waypoint][1]]\n",
    "\n"
   ]
  },
  {
   "cell_type": "code",
   "execution_count": 37,
   "id": "cdbd7048",
   "metadata": {},
   "outputs": [
    {
     "data": {
      "text/plain": [
       "[6.502514362335205, 0.7188082784414291]"
      ]
     },
     "execution_count": 37,
     "metadata": {},
     "output_type": "execute_result"
    }
   ],
   "source": [
    "rabbit"
   ]
  },
  {
   "cell_type": "code",
   "execution_count": 38,
   "id": "bca749ba",
   "metadata": {},
   "outputs": [
    {
     "data": {
      "text/plain": [
       "22"
      ]
     },
     "execution_count": 38,
     "metadata": {},
     "output_type": "execute_result"
    }
   ],
   "source": [
    "front_waypoint"
   ]
  },
  {
   "cell_type": "code",
   "execution_count": 39,
   "id": "3069d09b",
   "metadata": {},
   "outputs": [
    {
     "data": {
      "text/plain": [
       "23"
      ]
     },
     "execution_count": 39,
     "metadata": {},
     "output_type": "execute_result"
    }
   ],
   "source": [
    "rabbit_waypoint"
   ]
  },
  {
   "cell_type": "code",
   "execution_count": null,
   "id": "ad50b2b3",
   "metadata": {},
   "outputs": [],
   "source": [
    "\n",
    "\n",
    "\n",
    "\n",
    "rabbit_waypoint_data = waypoints[ribbit_waypoint]\n",
    "\n",
    "rabbit = [waypoints[rabbit_waypoint][0],waypoints[closest_waypoints[1]][1]]\n",
    "\n",
    "    \n",
    "radius = math.hypot(x - rabbit[0], y - rabbit[1])\n",
    "\n",
    "pointing[0] = x + (radius * math.cos(heading))\n",
    "pointing[1] = y + (radius * math.sin(heading))\n",
    "\n",
    "vector_delta = math.hypot(pointing[0] - rabbit[0], pointing[1] - rabbit[1])\n",
    "\n",
    "# Max distance for pointing away will be the radius * 2\n",
    "# Min distance means we are pointing directly at the next waypoint\n",
    "# We can setup a reward that is a ratio to this max.\n",
    "\n",
    "if vector_delta == 0:\n",
    "    reward += 1\n",
    "else:\n",
    "    reward += ( 1 - ( vector_delta / (radius * 2)))\n"
   ]
  },
  {
   "cell_type": "code",
   "execution_count": null,
   "id": "a087c592",
   "metadata": {},
   "outputs": [],
   "source": []
  },
  {
   "cell_type": "code",
   "execution_count": 31,
   "id": "fbe781de",
   "metadata": {},
   "outputs": [
    {
     "data": {
      "text/plain": [
       "119"
      ]
     },
     "execution_count": 31,
     "metadata": {},
     "output_type": "execute_result"
    }
   ],
   "source": [
    "len(waypoints)"
   ]
  },
  {
   "cell_type": "code",
   "execution_count": 32,
   "id": "48c5ba2d",
   "metadata": {},
   "outputs": [
    {
     "data": {
      "text/plain": [
       "(3.059733510017395, 0.6826554089784622)"
      ]
     },
     "execution_count": 32,
     "metadata": {},
     "output_type": "execute_result"
    }
   ],
   "source": [
    "waypoints[-1]"
   ]
  },
  {
   "cell_type": "code",
   "execution_count": 33,
   "id": "cbaeea95",
   "metadata": {},
   "outputs": [
    {
     "data": {
      "text/plain": [
       "(3.059733510017395, 0.6826554089784622)"
      ]
     },
     "execution_count": 33,
     "metadata": {},
     "output_type": "execute_result"
    }
   ],
   "source": [
    "waypoints[0]"
   ]
  },
  {
   "cell_type": "code",
   "execution_count": 35,
   "id": "9ab096d3",
   "metadata": {},
   "outputs": [
    {
     "data": {
      "text/plain": [
       "(3.059733510017395, 0.6826554089784622)"
      ]
     },
     "execution_count": 35,
     "metadata": {},
     "output_type": "execute_result"
    }
   ],
   "source": [
    "waypoints[118]"
   ]
  },
  {
   "cell_type": "code",
   "execution_count": 30,
   "id": "d45625d8",
   "metadata": {},
   "outputs": [
    {
     "data": {
      "text/plain": [
       "22"
      ]
     },
     "execution_count": 30,
     "metadata": {},
     "output_type": "execute_result"
    }
   ],
   "source": [
    "front_waypoint"
   ]
  },
  {
   "cell_type": "code",
   "execution_count": null,
   "id": "bf807368",
   "metadata": {},
   "outputs": [],
   "source": [
    "rabbit = [waypoints[closest_waypoints+1][0],waypoints[closest_waypoints+1][1]]\n",
    "\n",
    "radius = math.hypot(x - rabbit[0], y - rabbit[1])\n",
    "\n",
    "pointing[0] = x + (radius * math.cos(car_orientation))\n",
    "pointing[1] = y + (radius * math.sin(car_orientation))\n",
    "\n",
    "vector_delta = math.hypot(pointing[0] - rabbit[0], pointing[1] - rabbit[1])"
   ]
  },
  {
   "cell_type": "code",
   "execution_count": 18,
   "id": "45e7910d",
   "metadata": {},
   "outputs": [],
   "source": [
    "zhouju= 0.17\n",
    "lunju = 0.155"
   ]
  },
  {
   "cell_type": "code",
   "execution_count": 12,
   "id": "d8ba8285",
   "metadata": {
    "scrolled": true
   },
   "outputs": [
    {
     "data": {
      "text/plain": [
       "{'all_wheels_on_track': True,\n",
       " 'x': 6.278360311491416,\n",
       " 'y': 0.7116795522522212,\n",
       " 'heading': 4.648744661408698,\n",
       " 'distance_from_center': 0.0193651441605965,\n",
       " 'projection_distance': 3.220538868663732,\n",
       " 'progress': 3.185724118272115,\n",
       " 'steps': 10.0,\n",
       " 'speed': 1.4,\n",
       " 'steering_angle': 30.0,\n",
       " 'track_width': 0.7616903632178281,\n",
       " 'track_length': 17.709159380834848,\n",
       " 'waypoints': [(3.059733510017395, 0.6826554089784622),\n",
       "  (3.2095088958740234, 0.6831344813108444),\n",
       "  (3.359275460243225, 0.6833638250827789),\n",
       "  (3.5090349912643433, 0.6834017932415009),\n",
       "  (3.6587949991226196, 0.6834610402584076),\n",
       "  (3.808555006980896, 0.6835170090198517),\n",
       "  (3.9583150148391724, 0.6835691034793854),\n",
       "  (4.1080756187438965, 0.6836211383342743),\n",
       "  (4.2578349113464355, 0.6836741119623184),\n",
       "  (4.407594919204712, 0.683727964758873),\n",
       "  (4.557354927062988, 0.6837812215089798),\n",
       "  (4.7071144580841064, 0.6838362663984299),\n",
       "  (4.856873989105225, 0.6838938742876053),\n",
       "  (5.006633043289185, 0.6839521080255508),\n",
       "  (5.156393527984619, 0.6840048730373383),\n",
       "  (5.306154489517212, 0.6840500980615616),\n",
       "  (5.455911874771118, 0.6841173022985458),\n",
       "  (5.605645418167114, 0.6843366473913193),\n",
       "  (5.75542140007019, 0.6842880994081497),\n",
       "  (5.905304670333862, 0.6835954934358597),\n",
       "  (6.055286169052124, 0.6823406517505646),\n",
       "  (6.204955101013184, 0.6861690580844879),\n",
       "  (6.354061603546143, 0.6985173225402832),\n",
       "  (6.502514362335205, 0.7188082784414291),\n",
       "  (6.643739938735962, 0.7683110386133194),\n",
       "  (6.77488899230957, 0.8412670791149139),\n",
       "  (6.89846134185791, 0.9262270629405975),\n",
       "  (7.0100367069244385, 1.0257667303085327),\n",
       "  (7.0997467041015625, 1.1460862159729004),\n",
       "  (7.172473669052124, 1.2770325541496277),\n",
       "  (7.230445146560669, 1.4172040224075317),\n",
       "  (7.272417068481445, 1.565867006778717),\n",
       "  (7.283682584762573, 1.7152734994888306),\n",
       "  (7.265743970870972, 1.8636599779129024),\n",
       "  (7.233960151672363, 2.010729968547821),\n",
       "  (7.1842029094696045, 2.154710531234741),\n",
       "  (7.114001989364624, 2.2871004343032837),\n",
       "  (7.0233659744262695, 2.406221032142639),\n",
       "  (6.917426347732544, 2.512663960456848),\n",
       "  (6.79807996749878, 2.604923009872436),\n",
       "  (6.6672019958496085, 2.6775895357131962),\n",
       "  (6.526654481887817, 2.729645013809204),\n",
       "  (6.380491495132446, 2.7596704959869385),\n",
       "  (6.229795932769775, 2.7700384855270386),\n",
       "  (6.079286813735961, 2.7733629941940308),\n",
       "  (5.929529666900635, 2.7721140384674072),\n",
       "  (5.7797839641571045, 2.7707979679107666),\n",
       "  (5.630027532577515, 2.769605040550232),\n",
       "  (5.48030161857605, 2.7690484523773193),\n",
       "  (5.330573081970215, 2.768457531929016),\n",
       "  (5.180745601654053, 2.765363574028015),\n",
       "  (5.031071662902832, 2.766121029853821),\n",
       "  (4.8823630809783936, 2.7846319675445557),\n",
       "  (4.735179901123047, 2.821260929107666),\n",
       "  (4.596354961395264, 2.878996968269348),\n",
       "  (4.471064329147339, 2.959028959274292),\n",
       "  (4.358901500701904, 3.0601580142974854),\n",
       "  (4.255730390548706, 3.1701360940933228),\n",
       "  (4.16035795211792, 3.2856805324554443),\n",
       "  (4.066727519035339, 3.4024704694747925),\n",
       "  (3.9719725847244263, 3.518454909324646),\n",
       "  (3.8773505687713623, 3.6345274448394775),\n",
       "  (3.7827706336975098, 3.7506459951400757),\n",
       "  (3.6881529092788696, 3.86673903465271),\n",
       "  (3.5935609340667725, 3.9826358556747437),\n",
       "  (3.4988315105438232, 4.09949803352356),\n",
       "  (3.4035515785217285, 4.217398405075073),\n",
       "  (3.294981002807617, 4.319329500198364),\n",
       "  (3.1679095029830933, 4.398614168167114),\n",
       "  (3.0387414693832397, 4.461370468139648),\n",
       "  (2.854969024658203, 4.497744560241699),\n",
       "  (2.797850012779234, 4.495018482208252),\n",
       "  (2.633301019668579, 4.497664451599121),\n",
       "  (2.4294214248657227, 4.4980690479278564),\n",
       "  (2.2890069484710693, 4.492910385131836),\n",
       "  (2.1444239616394043, 4.488077163696289),\n",
       "  (1.99241304397583, 4.483960390090942),\n",
       "  (1.842801034450531, 4.479875564575195),\n",
       "  (1.6925734877586365, 4.4749414920806885),\n",
       "  (1.539882481098175, 4.468656063079834),\n",
       "  (1.3862689733505262, 4.457833528518677),\n",
       "  (1.2433670163154602, 4.418424367904663),\n",
       "  (1.1135604083538055, 4.345951080322266),\n",
       "  (0.9965091645717638, 4.250534892082216),\n",
       "  (0.8920779228210449, 4.136229991912842),\n",
       "  (0.8050850629806519, 4.006568551063538),\n",
       "  (0.7456648498773575, 3.8689799308776855),\n",
       "  (0.7141403257846834, 3.723703503608705),\n",
       "  (0.7072480469942093, 3.572937488555908),\n",
       "  (0.714956521987915, 3.4234429597854614),\n",
       "  (0.7365620285272598, 3.275694489479065),\n",
       "  (0.7720642238855366, 3.129692554473875),\n",
       "  (0.8129126578569412, 2.9843615293502808),\n",
       "  (0.8494300991296768, 2.838486909866333),\n",
       "  (0.8816098272800446, 2.692067503929138),\n",
       "  (0.9119606614112854, 2.5454180240631104),\n",
       "  (0.942350447177887, 2.3987735509872437),\n",
       "  (0.9727316200733185, 2.2521289587020874),\n",
       "  (1.0031171143054962, 2.1054846048355103),\n",
       "  (1.0335085093975067, 1.958836555480957),\n",
       "  (1.063848465681076, 1.8122150301933289),\n",
       "  (1.0942798256874084, 1.6655445098876953),\n",
       "  (1.125132828950882, 1.518646478652954),\n",
       "  (1.1569859981536865, 1.3717305064201355),\n",
       "  (1.1986910104751587, 1.2280805110931396),\n",
       "  (1.2531161606311798, 1.0885401666164398),\n",
       "  (1.3394269943237305, 0.9674179255962372),\n",
       "  (1.440102458000183, 0.8561052978038788),\n",
       "  (1.5720524787902832, 0.7863914519548416),\n",
       "  (1.7143170237541199, 0.7385813295841217),\n",
       "  (1.862565040588379, 0.7073544710874557),\n",
       "  (2.011545956134796, 0.6859170347452164),\n",
       "  (2.1608630418777466, 0.6737564653158188),\n",
       "  (2.3105164766311646, 0.6708721071481705),\n",
       "  (2.4604655504226685, 0.6761422604322433),\n",
       "  (2.610395073890686, 0.6808701455593109),\n",
       "  (2.760238528251648, 0.6832202970981598),\n",
       "  (2.909994959831238, 0.6831925511360168),\n",
       "  (3.059733510017395, 0.6826554089784622)],\n",
       " 'closest_waypoints': [21, 22],\n",
       " 'is_left_of_center': True,\n",
       " 'is_reversed': False,\n",
       " 'closest_objects': [0, 0],\n",
       " 'objects_location': [],\n",
       " 'objects_left_of_center': [],\n",
       " 'object_in_camera': False,\n",
       " 'objects_speed': [],\n",
       " 'objects_heading': [],\n",
       " 'objects_distance_from_center': [],\n",
       " 'objects_distance': [],\n",
       " 'is_crashed': False,\n",
       " 'is_offtrack': False}"
      ]
     },
     "execution_count": 12,
     "metadata": {},
     "output_type": "execute_result"
    }
   ],
   "source": [
    "testing_param"
   ]
  },
  {
   "cell_type": "code",
   "execution_count": 19,
   "id": "8df437ee",
   "metadata": {},
   "outputs": [],
   "source": [
    "def distance_between(x1, y1 , x2, y2):\n",
    "    dx = x1 - x2\n",
    "    dy = y1 - y2\n",
    "    return math.sqrt(dx*dx + dy*dy)"
   ]
  },
  {
   "cell_type": "code",
   "execution_count": 23,
   "id": "153e27ec",
   "metadata": {},
   "outputs": [],
   "source": [
    "waypoints = testing_param['waypoints']\n",
    "prev_waypoint = waypoints[-1]\n",
    "\n",
    "total_distance = 0\n",
    "\n",
    "for waypoint in testing_param['waypoints']:\n",
    "    \n",
    "    distance = distance_between(prev_waypoint[0], prev_waypoint[1], waypoint[0], waypoint[1])\n",
    "    total_distance = total_distance + distance\n",
    "    prev_waypoint = waypoint"
   ]
  },
  {
   "cell_type": "code",
   "execution_count": 24,
   "id": "7b4235e9",
   "metadata": {},
   "outputs": [
    {
     "data": {
      "text/plain": [
       "17.709159380834848"
      ]
     },
     "execution_count": 24,
     "metadata": {},
     "output_type": "execute_result"
    }
   ],
   "source": [
    "total_distance"
   ]
  },
  {
   "cell_type": "code",
   "execution_count": 47,
   "id": "f17e80ae",
   "metadata": {},
   "outputs": [
    {
     "data": {
      "text/plain": [
       "8"
      ]
     },
     "execution_count": 47,
     "metadata": {},
     "output_type": "execute_result"
    }
   ],
   "source": [
    "pow(2,3)"
   ]
  },
  {
   "cell_type": "code",
   "execution_count": 51,
   "id": "220040db",
   "metadata": {},
   "outputs": [
    {
     "data": {
      "text/plain": [
       "0.11987757463564722"
      ]
     },
     "execution_count": 51,
     "metadata": {},
     "output_type": "execute_result"
    }
   ],
   "source": [
    "pow(0.98, 105)"
   ]
  },
  {
   "cell_type": "code",
   "execution_count": null,
   "id": "ed023573",
   "metadata": {},
   "outputs": [],
   "source": [
    "17.709159380834848"
   ]
  }
 ],
 "metadata": {
  "kernelspec": {
   "display_name": "Python 3 (ipykernel)",
   "language": "python",
   "name": "python3"
  },
  "language_info": {
   "codemirror_mode": {
    "name": "ipython",
    "version": 3
   },
   "file_extension": ".py",
   "mimetype": "text/x-python",
   "name": "python",
   "nbconvert_exporter": "python",
   "pygments_lexer": "ipython3",
   "version": "3.8.8"
  }
 },
 "nbformat": 4,
 "nbformat_minor": 5
}
